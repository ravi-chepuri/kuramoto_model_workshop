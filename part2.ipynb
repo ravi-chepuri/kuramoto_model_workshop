{
 "cells": [
  {
   "cell_type": "markdown",
   "metadata": {},
   "source": [
    "# Collective Synchronization: The Kuramoto Model\n",
    "\n",
    "Author: Ravi Chepuri\n",
    "\n",
    "This notebook is the second part of a challenge question for the 2023 Winter Workshop of the [GRAD-MAP program](https://www.umdgradmap.org). The challenge question is intended to be a week-long exploration in nonlinear dynamics for physics students at the intermediate undergraduate level who have limited previous Python and coding experience.\n",
    "\n",
    "This challenge question is inspired by L Q English 2008 Eur. J. Phys. 29 143."
   ]
  },
  {
   "cell_type": "markdown",
   "metadata": {},
   "source": [
    "## III. The order parameter and a phase transition"
   ]
  },
  {
   "cell_type": "markdown",
   "metadata": {},
   "source": [
    "In part III., we will begin by addressing a rather general question: under what conditions does synchronization occur in the Kuramoto model? We will find that in order to address this question, we need some quantitative measurement of synchronization, which we will call the order parameter. By examining the behavior of the order parameter at different coupling strengths, we can begin to understand the conditions under which synchronization occurs in the Kuramoto model. But perhaps more significantly, we will encounter a phase transition in the order parameter, which is a very deep concept that connects to may other areas of physics.\n",
    "\n",
    "Note that each task in part III. will be more open ended and possibly more difficult than tasks in part II. "
   ]
  },
  {
   "cell_type": "markdown",
   "metadata": {},
   "source": [
    "Before we begin, we must import the same code as we did in the previous notebook:"
   ]
  },
  {
   "cell_type": "code",
   "execution_count": 12,
   "metadata": {},
   "outputs": [],
   "source": [
    "import numpy as np\n",
    "import matplotlib.pyplot as plt\n",
    "from kuramoto_plot import animate_kuramoto"
   ]
  },
  {
   "cell_type": "markdown",
   "metadata": {},
   "source": [
    "At the end of the last notebook you were optionally tasked to define a function that streamlines the process of running a Kuramoto model simulation:\n",
    "\n",
    ">**Optional task:** Define a function that takes `N`, `K`, `mean_omega`, `standard_deviation_omega`, `dt`, and `number_of_time_steps` as arguments, and performs a simulation of the Kuramoto model with those parameters, as you've done previously. The function should return a 2D Numpy array `thetas` containing the simulation results, and also return a 1D Numpy array `omegas` containing the natural frequencies of the oscillators.\n",
    "\n",
    "The solution to this task is provided here, as it will likely be useful in the rest of this notebook."
   ]
  },
  {
   "cell_type": "code",
   "execution_count": 13,
   "metadata": {},
   "outputs": [],
   "source": [
    "def simulate_kuramoto(N, K, mean_omega, standard_deviation_omega, dt, number_of_time_steps):\n",
    "    \"\"\"Performs a simulation of the Kuramoto model using Euler's method.\n",
    "\n",
    "    Args:\n",
    "        N: Number of Kuramoto oscillators\n",
    "        K: Coupling constant\n",
    "        mean_omega: Average value of the normal distribution that the natural\n",
    "            frequencies are drawn from\n",
    "        standard_deviation_omega: Width of the normal distribution that the\n",
    "            natural frequencies are drawn from\n",
    "        dt: Timestep used for Euler's method in the simulation\n",
    "        number_of_time_steps: Length of simulation in units of dt\n",
    "\n",
    "    Returns:\n",
    "        A tuple of two objects. The first is a 2D Numpy array containing the\n",
    "        results of the simulation (element [i, n] is the phase of oscillator i+1\n",
    "        at time t_n). The second is a 1D Numpy array containing a list of the\n",
    "        natural frequencies of the N oscillators.\n",
    "    \"\"\"\n",
    "    omegas = np.random.default_rng().normal(mean_omega, standard_deviation_omega, (N))\n",
    "    thetas = np.zeros((N, number_of_time_steps))\n",
    "    thetas[:, 0] = 2 * np.pi * np.random.rand(N)\n",
    "    for n in range(1, number_of_time_steps):\n",
    "        for i in range(N):\n",
    "            thetas[i, n] = thetas[i, n-1] + (omegas[i] + K/N * sum(np.sin(thetas[j, n-1] - thetas[i, n-1]) for j in range(N))) * dt\n",
    "    return thetas, omegas"
   ]
  },
  {
   "cell_type": "markdown",
   "metadata": {},
   "source": [
    "### Instances where synchronization does not occur in the Kuramoto model\n",
    "\n",
    "If you haven't already, let's adjust some of the parameters for our $N=32$ Kuramoto model simulation, and see if we can observe a few instances in which synchronization does and doesn't occur."
   ]
  },
  {
   "cell_type": "markdown",
   "metadata": {},
   "source": [
    "**Task:** Use the `simulate_kuramoto` function to simulate the case when there are $N=32$ Kuramoto oscillators and the $\\omega_i$ are picked from a normal distribution with mean $1$ and standard deviation $0.1$, in 3 cases:\n",
    "1. When $K = 0.05 \\mathrm{Hz}$\n",
    "2. When $K = 0.17 \\mathrm{Hz}$\n",
    "3. When $K = 0.5 \\mathrm{Hz}$\n",
    "\n",
    "Use the same simulation parameters as in the previous notebook (timestep $\\Delta t = 0.1 \\mathrm{s}$ and a simulation length of $1000$ time steps). Create an animation for each case. What do you observe?\n",
    "\n",
    "(Note: `simulate_kuramoto` returns two objects: `thetas`, which is a 2D Numpy array holding the results of the simulation, and `omegas`, which is a 1D Numpy array holding the natural frequencies of the oscillators used in the simulation. To get these objects, use code of the form `thetas, omegas = simulate_kuramoto(...)`, and to animate the results use code of the form `animate_kuramoto(*thetas, natural_frequencies=omegas)`.)"
   ]
  },
  {
   "cell_type": "code",
   "execution_count": 4,
   "metadata": {},
   "outputs": [],
   "source": [
    "### YOUR CODE HERE ###\n",
    "# You may insert additional cells if needed"
   ]
  },
  {
   "cell_type": "markdown",
   "metadata": {},
   "source": [
    "**Reflection:** Describe the collective motion of the thirty-two oscillators in each of the three cases."
   ]
  },
  {
   "cell_type": "markdown",
   "metadata": {},
   "source": [
    "*Insert your reflection here*"
   ]
  },
  {
   "cell_type": "markdown",
   "metadata": {},
   "source": [
    "If you create your animations correctly, you should observe that there can be different degrees of synchronization in the Kuramoto model. To investigate the conditions under which synchronization occurs, it would be nice to have a way to quantify the amount of synchronization that we observe. This motivates the introduction of an \"order parameter,\" described below."
   ]
  },
  {
   "cell_type": "markdown",
   "metadata": {},
   "source": [
    "### Average position of oscillators"
   ]
  },
  {
   "cell_type": "markdown",
   "metadata": {},
   "source": [
    "One way to understand the synchronization of the Kuramoto oscillators is to look at the average positions of the oscillators on the unit circle.\n",
    "\n",
    "**Task:** Modify your code from the three cases in the previous section by additionally passing the argument `show_average=True` into the `plot_kuramoto` function. This should display the average position of the Kuramoto oscillators. What do you observe in each of the three cases?"
   ]
  },
  {
   "cell_type": "code",
   "execution_count": null,
   "metadata": {},
   "outputs": [],
   "source": [
    "### YOUR CODE HERE ###\n",
    "# You may insert additional cells if needed"
   ]
  },
  {
   "cell_type": "markdown",
   "metadata": {},
   "source": [
    "**Reflection:** Describe the motion of average position of the oscillators in each of the three cases. What can the average position tell you about the collective behavior of the 32 individual oscillators?"
   ]
  },
  {
   "cell_type": "markdown",
   "metadata": {},
   "source": [
    "*Insert your reflection here*"
   ]
  },
  {
   "cell_type": "markdown",
   "metadata": {},
   "source": [
    "### The order parameter"
   ]
  },
  {
   "cell_type": "markdown",
   "metadata": {},
   "source": [
    "In the animations in the previous section, you should see that the average position of the oscillators stays relatively close to the center of the unit circle (the origin) when the oscillators are not synchronized. On the other hand, the average position goes close to the edge of the unit circle when there is some sychronization! As such, we consider the distance from the average position of the oscillators to the origin as a measure of the amount of synchronization there is. We call this distance the order parameter $r$:\n",
    "\\begin{align*}\n",
    "    r &= \\text{distance from avg. position of oscillators to origin} \\\\\n",
    "      &= \\sqrt{x_{avg}^2 + y_{avg}^2}.\n",
    "\\end{align*}\n",
    "where the second equality comes from the Pythagorean theorem. Using unit circle trigonometry, we know that the $x$ and $y$ positions of the $i$ th oscillator are $x_i = \\cos(\\theta_i)$ and $y_i = \\sin(\\theta_i)$, so by taking an average, we can find that $x_{avg} = \\frac{1}{N} \\sum_{i=1}^N \\cos(\\theta_i)$ and $y_{avg} = \\frac{1}{N} \\sum_{i=1}^N \\sin(\\theta_i)$. Plugging into the above equation and simplifying gives an expression for the order parameter in terms of the $\\theta_i$ s:\n",
    "\n",
    "\\begin{equation}\n",
    "  r = \\frac{1}{N} \\sqrt{\\left(\\sum_{i=1}^N \\cos(\\theta_i)\\right)^2 + \\left(\\sum_{i=1}^N \\sin(\\theta_i)\\right)^2}\n",
    "\\end{equation}\n",
    "\n",
    "Given that we know the values of all the $\\theta_i$ s at some time $t$, we can calculate $r$ at that time $t$. If $r$ is close to $0$, that means that the average position of the oscillators is near the origin and there is not much synchronization at that time. On the other hand, if $r$ is close to $1$, that means that the average position of the oscillators is near the edge of the unit circle and there is synchronization at that time.\n",
    "\n",
    "Note: In some literature, you may see the order parameter defined using complex numbers: $r = \\frac{1}{N} \\left| \\sum_{i=1}^{N} e^{i \\theta_i} \\right|$. This definition is equivalent, and slightly more straightforward to calculate, if you have familiarity working with complex numbers.\n",
    "\n",
    "**Task:** Define a function that calculates the order parameter of the results of a Kuramoto simulation at every timestep. It should take a 2D Numpy array `thetas` as its argument, and produce a 1D array `order_params` that contains values of $r(t)$ for $t = 0 * \\Delta t,\\, t = 1 * \\Delta t,\\, \\ldots,\\, t = (\\text{number of time steps}) * \\Delta t$. *Hint:* Use Numpy vectorization to your advantage.\n",
    "\n",
    "**Optional task:** Rewrite the same function using complex numbers."
   ]
  },
  {
   "cell_type": "code",
   "execution_count": 28,
   "metadata": {},
   "outputs": [],
   "source": [
    "def order_parameter(thetas):\n",
    "    \"\"\"Calculates the order parameter of the results of a Kuramoto simulation at\n",
    "    every time step.\n",
    "\n",
    "    Args:\n",
    "        thetas: a 2D Numpy array containing the results of the simulation\n",
    "            (element [i, n] is the phase of oscillator i+1 at time t_n)\n",
    "\n",
    "    Returns:\n",
    "        A 1D Numpy array containing the order parameter at every timestep\n",
    "    \"\"\"\n",
    "    ### YOUR CODE BELOW ###\n",
    "    order_params = None\n",
    "    return order_params"
   ]
  },
  {
   "cell_type": "markdown",
   "metadata": {},
   "source": [
    "### Time evolution of the order parameter"
   ]
  },
  {
   "cell_type": "markdown",
   "metadata": {},
   "source": [
    "Let's now look at how the order parameter $r$ changes over the course of our simulations.\n",
    "\n",
    "**Task:** For cases 1, 2, and 3 that you simulated previously, create a plot of the order parameter over time. What do you observe in each of the three cases? *Hint:* Use the package `matplotlib` to produce your plot. Look up numerous online resources for plotting functions using `matplotlib`. "
   ]
  },
  {
   "cell_type": "code",
   "execution_count": 10,
   "metadata": {},
   "outputs": [],
   "source": [
    "### YOUR CODE HERE ###"
   ]
  },
  {
   "cell_type": "markdown",
   "metadata": {},
   "source": [
    "**Reflection:** Describe how the order parameter changes over the course of the simulation for each of the three cases. Does this make sense given what you observed in the animations? Comment on any differences in the behavior near the end of the simulation."
   ]
  },
  {
   "cell_type": "markdown",
   "metadata": {},
   "source": [
    "*Insert your reflection here*"
   ]
  },
  {
   "cell_type": "markdown",
   "metadata": {},
   "source": [
    "### A more numerically efficient Kuramoto model simulation"
   ]
  },
  {
   "cell_type": "markdown",
   "metadata": {},
   "source": [
    "We introduced the order parameter $r$ as a way to measure the amount of synchronization in a set of Kuramoto oscillators. However, the order parameter turns out to be even more useful: it can be shown that the Kuramoto equations can be rewritten in a form that depends on the order parameter, as we will show below. This is useful because the resulting equations turn out to be quicker to solve numerically than the original Kuramoto equations, allowing us to do simulations with many more Kuramoto oscillators (larger $N$).\n",
    "\n",
    "Recall that we defined $r$ as the distance from the average position of the oscillators to the origin. Let's also define a quantity $\\psi$ as the phase of the average position of the oscillators, if that average position was itself considered as an oscillator.\n",
    "\n",
    "If you have familiarity with complex numbers, an equivalent definition of $r$ and $\\psi$ is given by setting $r e^{i \\psi} = \\frac{1}{N} \\sum_{i=1}^{N} e^{i \\theta_i}$. By performing a series of mathematical operations, the Kuramoto equations can be re-expressed in the form\n",
    "\\begin{equation}\n",
    "    \\frac{\\mathrm{d} \\theta_i}{\\mathrm{d} t} = \\omega_i + K r \\sin(\\psi - \\theta_i) \\quad (i = 1, \\ldots, N).\n",
    "\\end{equation}\n",
    "(A mathematical proof of this claim is given in an appendix at the end of this notebook.)\n",
    "\n",
    "This form of the Kuramoto equations is convenient for our computational simulations because we do not have to calculate a sum in order to find each of the $\\frac{\\mathrm{d} \\theta_i}{\\mathrm{d} t}$, allowing us to scale to much larger $N$."
   ]
  },
  {
   "cell_type": "markdown",
   "metadata": {},
   "source": [
    "**Task**: Rewrite the function `simulate_kuramoto`, but using the order-parameter-based Kuramoto equations provided above. Call this new function `simulate_kuramoto_op`. As a reminder, this was the specification for `simulate_kuramoto`:\n",
    "\n",
    ">Define a function that takes `N`, `K`, `mean_omega`, `standard_deviation_omega`, `dt`, and `number_of_time_steps` as arguments, and performs a simulation of the Kuramoto model with those parameters. The function should return a 2D Numpy array `thetas` containing the simulation results, and also return a 1D Numpy array `omegas` containing the natural frequencies of the oscillators.\n",
    "\n",
    "A helper function is given that calculates $\\psi$ at each time step. You will also need to use your `order_parameter` function from before. After you're done, create an animation of the results of `simulate_kuramoto_op` and check that it works as expected."
   ]
  },
  {
   "cell_type": "code",
   "execution_count": 16,
   "metadata": {},
   "outputs": [],
   "source": [
    "def psi(thetas):\n",
    "    \"\"\"Calculates the average phase \\psi of the results of a Kuramoto\n",
    "    simulation at every time step.\n",
    "\n",
    "    Args:\n",
    "        thetas: a 2D Numpy array containing the results of the simulation\n",
    "            (element [i, n] is the phase of oscillator i+1 at time t_n)\n",
    "\n",
    "    Returns:\n",
    "        A 1D Numpy array containing the variable \\psi at every timestep\n",
    "    \"\"\"\n",
    "    N = thetas.shape[0]\n",
    "    z = 1/N * np.sum(np.exp(1j * thetas), axis=0)\n",
    "    return np.angle(z)\n",
    "\n",
    "\n",
    "def simulate_kuramoto_op(N, K, mean_omega, standard_deviation_omega, dt, number_of_time_steps):\n",
    "    \"\"\"Performs a simulation of the Kuramoto model using Euler's method.\n",
    "    Uses the order parameter governed equations, rather than the original\n",
    "    Kuramoto equations.\n",
    "\n",
    "    Args:\n",
    "        N: Number of Kuramoto oscillators\n",
    "        K: Coupling constant\n",
    "        mean_omega: Average value of the normal distribution that the natural\n",
    "            frequencies are drawn from\n",
    "        standard_deviation_omega: Width of the normal distribution that the\n",
    "            natural frequencies are drawn from\n",
    "        dt: Timestep used for Euler's method in the simulation\n",
    "        number_of_time_steps: Length of simulation in units of dt\n",
    "\n",
    "    Returns:\n",
    "        A tuple of two objects. The first is a 2D Numpy array containing the\n",
    "        results of the simulation (element [i, n] is the phase of oscillator i+1\n",
    "        at time t_n). The second is a 1D Numpy array containing a list of the\n",
    "        natural frequencies of the N oscillators.\n",
    "    \"\"\"\n",
    "    ### YOUR CODE BELOW ###\n",
    "    thetas = None\n",
    "    omegas = None\n",
    "    return thetas, omegas"
   ]
  },
  {
   "cell_type": "markdown",
   "metadata": {},
   "source": [
    "**Reflection:** Try simulating more and more Kuramoto oscillators by increasing $N$. Compare how long it takes `simulate_kuramoto` (which uses the original Kuramoto equations) and `simulate_kuramoto_op` (which uses the modified Kuramoto equations based on the order parameter) to run the simulations (not including the time it takes to create an animation `animate_kuramoto`). What do you observe?"
   ]
  },
  {
   "cell_type": "markdown",
   "metadata": {},
   "source": [
    "*Insert your reflection here*"
   ]
  },
  {
   "cell_type": "markdown",
   "metadata": {},
   "source": [
    "This more efficient simulation method allows us to analyze systems of much more Kuramoto oscillators.\n",
    "\n",
    "**Task:** Use your new `simulate_kuramoto_op` function to reproduce the plots of the order parameter over time for each of the three cases, but this time with $N=512$ Kuramoto oscillators. (Do NOT animate the results of the simulation, as the animation process will likely take your computer a very long time to complete.)"
   ]
  },
  {
   "cell_type": "code",
   "execution_count": 36,
   "metadata": {},
   "outputs": [],
   "source": [
    "### YOUR CODE HERE ###"
   ]
  },
  {
   "cell_type": "markdown",
   "metadata": {},
   "source": [
    "### Getting the \"final\" value of the order parameter"
   ]
  },
  {
   "cell_type": "markdown",
   "metadata": {},
   "source": [
    "When we study the Kuramoto model (or many systems in physics), we often care about the long run behavior of the system, rather than the early behavior of the system. This is because the early behavior is determined by the initial conditions, which we can set to be whatever we want. In contrast, in the long run the initial conditions don't matter, so the long run reveals the \"true physics\" of the system.\n",
    "\n",
    "More concretely, we saw that in cases where the Kuramoto oscillators experience collective synchronization, it takes some finite amount of time to acheive this sychronization. This can be seen in the plot of the order parameter $r$, which starts out much below $1$ but after some time eventually saturates to a constant number just below $1$. In contrast, when there is not much synchronization, $r$ does not approach a constant number but instead fluctuates around numbers less than $1$. As we can see, the long-run behaviors of $r$, rather than the initial behaviors, tell us about the different phenomena (synchronization vs. no synchronization) observed.\n",
    "\n",
    "**Task:** Write a function that takes in the results of a Kuramoto model simulation (produced by `simulate_kuramoto` or `simulate_kuramoto_op`), and returns the average order parameter $r$ over the last 20% of the simulation."
   ]
  },
  {
   "cell_type": "code",
   "execution_count": null,
   "metadata": {},
   "outputs": [],
   "source": [
    "def avg_final_op(thetas, fraction=0.2):\n",
    "    \"\"\"Gets the average value of the order parameter over the last 20% (or\n",
    "    other fraction) of the Kuramoto model simulation.\n",
    "\n",
    "    Args:\n",
    "        thetas: a 2D Numpy array containing the results of the simulation\n",
    "            (element [i, n] is the phase of oscillator i+1 at time t_n)\n",
    "        fraction: the fraction of the simulation for which to calculate the\n",
    "            average order parameter over (default: 0.2 i.e. 20%)\n",
    "\n",
    "    Returns:\n",
    "        A single number that is the average value of the order parameter\n",
    "        over the last 20% (or other fraction) of the Kuramoto model simulation.\n",
    "    \"\"\"\n",
    "    ### YOUR CODE BELOW ###\n",
    "    return 0"
   ]
  },
  {
   "cell_type": "markdown",
   "metadata": {},
   "source": [
    "**Task:** Use the function `avg_final_op` to get the average value of the order parameter over the last $20%$ of the simulations of each of the three cases you considered previously (with $N=512$). Check that these values approximately match the plot you produced in the previous section about the time evolution of the order parameter."
   ]
  },
  {
   "cell_type": "code",
   "execution_count": 33,
   "metadata": {},
   "outputs": [],
   "source": [
    "### YOUR CODE HERE ###"
   ]
  },
  {
   "cell_type": "markdown",
   "metadata": {},
   "source": [
    "### Bifurcation diagram"
   ]
  },
  {
   "cell_type": "markdown",
   "metadata": {},
   "source": [
    "So far, we've only considered three cases for the value of the coupling constant $K$. Let's now try to understand the long-run behavior of $r$ at a wide range of $K$ values. We'll first pick many different values of $K$, then use our previous code to run a simulation of the Kuramoto model with that $K$ and get the long run value of $r$, and finally display the results.\n",
    "\n",
    "For our values of $K$, it's often a good choice to choose a range of values that we want to consider, and then pick evenly spaced values throughout this range. In this context, a decent range of values to try is $K$ between $0.00$ and $1.00$. If we pick a spacing of $0.01$, then we will have $101$ different values of $K$ to consider: $K = 0.00, 0.01, 0.02, \\ldots, 0.99, 1.00$. \n",
    "\n",
    "Next, we loop over all the values of $K$. For each value of $K$, we run a Kuramoto model simulation, and then calculate the long run value of the order parameter.\n",
    "\n",
    "Finally, how should we display our data? A illustrative way of doing this is to create a plot with values of $K$ on the horizontal axis, and values of long-run $r$ on the vertical axis. Such a plot is known as a bifurcation diagram.\n",
    "\n",
    "**Task:** Create a bifurcation diagram for $N=512$ Kuramoto oscillators with $K$ ranging from $0.00$ to $1.00$ with a spacing of $0.01$. As you've done previously, the natural frequencies should be drawn from a normal distribution with mean $1$ and standard deviation $0.1$. You should use the same timestep for the simulation as you have previously, but use a simulation length of $5000$ timesteps now (so the oscillators have time to settle into their long-run behavior). The long-run order parameter should be estimated by taking the average of order parameter over the last $20%$ of the simulation.\n",
    "\n",
    "(*Hint:* Use Numpy's `linspace` function to create an array of evenly spaced values of $K$ for you to loop over.)\n",
    "\n",
    "(*Hint 2:* Use Matplotlib's `plt.scatter` function to plot data points.)\n",
    "\n",
    "(*Hint 3:* Since you are doing $101$ separate simulations, it may take your computer a while to produce a complete bifurcation diagram, depending on your computer, but it shouldn't take more than half and hour.)"
   ]
  },
  {
   "cell_type": "code",
   "execution_count": null,
   "metadata": {},
   "outputs": [],
   "source": [
    "### YOUR CODE HERE ###"
   ]
  },
  {
   "cell_type": "markdown",
   "metadata": {},
   "source": [
    "**Reflection:** What do you observe about the shape of the bifurcation diagram? Does the plot appear continuous or discontinuous? Does the long-run $r$ have an increasing or decreasing relationship with $K$, or neither? If there is a relationship, does it appear linear or non-linear? Are there ranges of values of $K$ where adjusting $K$ has limited effect on the long-run $r$? How about ranges of values of $K$ where adjusting $K$ has a large impact on the long-run $r$?"
   ]
  },
  {
   "cell_type": "markdown",
   "metadata": {},
   "source": [
    "*Insert your reflection here*"
   ]
  },
  {
   "cell_type": "markdown",
   "metadata": {},
   "source": [
    "You may have noticed that there is a relatively sharp cutoff between values of $K$ for which the long-run $r$ is near $0$ and values of $K$ for which  the long-run $r$ is near $1$. This phenomenon is actually an example of a phase transition, an important concept that appears in many areas of physics.\n",
    "\n",
    "A phase transition is a sudden change in the behavior or properties of a system that occurs at a particular critical point or threshold. It is usually accompanied by a change in the system's symmetry or order. For instance, when liquid water is cooled past 0 degrees Celcius, it suddenly becomes more ordered, forming a crystal structure and becoming ice.\n",
    "\n",
    "The key feature of the Kuramoto model that you have observed in the bifurcation diagram is that it exhibits a phase transition from an incoherent state, where the oscillators are not synchronized, to a ordered state, where the oscillators are synchronized. This phase transition occurs at a critical coupling strength of about $K \\approx 0.16$.\n",
    "\n",
    "At low coupling strength, the oscillators are only weakly influenced by each other and do not synchronize. As the coupling strength increases, the oscillators become more strongly influenced by each other and begin to synchronize. At a critical coupling strength, the oscillators suddenly synchronize and behave as a single, coherent entity. This sudden change in behavior is a phase transition."
   ]
  },
  {
   "cell_type": "markdown",
   "metadata": {},
   "source": [
    "### Key observations\n",
    "\n",
    "Use this section to record your main takeaways from this notebook."
   ]
  },
  {
   "cell_type": "markdown",
   "metadata": {},
   "source": [
    "*Insert your reflection here*"
   ]
  },
  {
   "cell_type": "markdown",
   "metadata": {},
   "source": [
    "## Appendix: Deriving the order parameter governed Kuramoto equations\n",
    "\n",
    "In this appendix, we derive the order parameter governed Kuramoto equations using complex analysis. You can complete this notebook without understanding this derivation, but it is provided here for completeness.\n",
    "\n",
    "\n",
    "***Claim:*** With $r$ and $\\psi$ defined by \n",
    "\\begin{equation}\n",
    "    r e^{i \\psi} = \\frac{1}{N} \\sum_{j=1}^{N} e^{i \\theta_j},\n",
    "\\end{equation}\n",
    "the Kuramoto equations\n",
    "\\begin{equation}\n",
    "    \\frac{\\mathrm{d} \\theta_i}{\\mathrm{d} t} = \\omega_i + \\frac{K}{N} \\sum_{j=1}^{N} \\sin(\\theta_j - \\theta_i) \\quad (i = 1, \\ldots, N)\n",
    "\\end{equation}\n",
    "can equivalently be expressed as\n",
    "\\begin{equation}\n",
    "    \\frac{\\mathrm{d} \\theta_i}{\\mathrm{d} t} = \\omega_i + K r \\sin(\\psi - \\theta_i) \\quad (i = 1, \\ldots, N).\n",
    "\\end{equation}\n",
    "\n",
    "***Proof:*** Starting with $r e^{i \\psi} = \\frac{1}{N} \\sum_{j=1}^{N} e^{i \\theta_j}$, multiply both sides by $e^{-i \\theta_i}$ (for any $i=1,2,\\ldots,N$) to obtain\n",
    "\\begin{equation}\n",
    "    r e^{i(\\psi - \\theta_i)} = \\frac{1}{N} \\sum_{j=1}^N e^{i(\\theta_j - \\theta_i)}.\n",
    "\\end{equation}\n",
    "Taking the imaginary part of both sides gives\n",
    "\\begin{equation}\n",
    "    r \\sin{(\\psi - \\theta_i)} = \\frac{1}{N} \\sum_{j=1}^N \\sin{(\\theta_j - \\theta_i)}.\n",
    "\\end{equation}\n",
    "The $i$ th Kuramoto equation can be rearranged to state\n",
    "\\begin{equation}\n",
    "    \\frac{1}{N} \\sum_{j=1}^N \\sin{(\\theta_j - \\theta_i)} = \\frac{\\frac{\\mathrm{d} \\theta_i}{\\mathrm{d} t} - \\omega_i}{K},\n",
    "\\end{equation}\n",
    "so plugging into the above equation gives\n",
    "\\begin{equation}\n",
    "    r \\sin{(\\psi - \\theta_i)} = \\frac{\\frac{\\mathrm{d} \\theta_i}{\\mathrm{d} t} - \\omega_i}{K}\n",
    "\\end{equation}\n",
    "which can be rearranged to yield\n",
    "\\begin{equation}\n",
    "    \\frac{\\mathrm{d} \\theta_i}{\\mathrm{d} t} = \\omega_i + K r \\sin(\\psi - \\theta_i). \\quad \\blacksquare\n",
    "\\end{equation}"
   ]
  }
 ],
 "metadata": {
  "kernelspec": {
   "display_name": "Python 3.10.6 ('gradmap')",
   "language": "python",
   "name": "python3"
  },
  "language_info": {
   "codemirror_mode": {
    "name": "ipython",
    "version": 3
   },
   "file_extension": ".py",
   "mimetype": "text/x-python",
   "name": "python",
   "nbconvert_exporter": "python",
   "pygments_lexer": "ipython3",
   "version": "3.10.6"
  },
  "orig_nbformat": 4,
  "vscode": {
   "interpreter": {
    "hash": "b98a5ffa782efa7793af04052f5c8d8dbd36a66e913402b72d38f14f79e70106"
   }
  }
 },
 "nbformat": 4,
 "nbformat_minor": 2
}
